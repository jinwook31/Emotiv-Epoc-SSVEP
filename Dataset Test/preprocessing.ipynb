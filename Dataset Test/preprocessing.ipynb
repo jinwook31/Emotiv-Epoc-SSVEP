{
 "cells": [
  {
   "cell_type": "markdown",
   "metadata": {},
   "source": [
    "# SSVEP-EEG DATA COLLECTION USING EMOTIV EPOC\n",
    "\n",
    "Dataset: https://ieee-dataport.org/documents/ssvep-eeg-data-collection-using-emotiv-epoc#files\n"
   ]
  },
  {
   "cell_type": "markdown",
   "metadata": {},
   "source": [
    "- 10 visual stimuli frequencies (7, 9, 11 and 13)\n",
    "- 2 electrodes (LO, RO) \n",
    "- 128 samples per second, Stimuli was provided for 3.5s\n",
    "\n",
    "Asanza, V., Avilés-Mendoza, K., Trivino-Gonzalez, H., Rosales-Uribe, F., Torres-Brunes, J., Loayza, F. R., ... & Tinoco-Egas, R. (2021). SSVEP-EEG signal classification based on emotiv EPOC BCI and raspberry Pi. IFAC-PapersOnLine, 54(15), 388-393.\n",
    "https://www.sciencedirect.com/science/article/pii/S240589632101692X"
   ]
  },
  {
   "cell_type": "markdown",
   "metadata": {},
   "source": [
    "### 1. Data Visualization"
   ]
  },
  {
   "cell_type": "code",
   "execution_count": 2,
   "metadata": {},
   "outputs": [],
   "source": [
    "import pandas as pd\n",
    "\n",
    "DATASET = '../Dataset/3_Filtered_Data/'\n",
    "stimuli = ['7Hz', '9Hz', '11Hz', '13Hz', 'Baseline']\n",
    "\n",
    "for s in stimuli:\n",
    "    stim = pd.read_csv(DATASET + s + '/muestra4.csv')\n",
    "    #stim[['EEG.O1', 'EEG.O2']].plot(subplots=True)"
   ]
  },
  {
   "cell_type": "code",
   "execution_count": 3,
   "metadata": {},
   "outputs": [
    {
     "data": {
      "image/png": "[encoded data removed]",
      "text/plain": [
       "<Figure size 432x288 with 1 Axes>"
      ]
     },
     "metadata": {
      "needs_background": "light"
     },
     "output_type": "display_data"
    }
   ],
   "source": [
    "# FFT\n",
    "import numpy as np\n",
    "import scipy.signal\n",
    "import matplotlib.pyplot as plt\n",
    "\n",
    "Fs = 128\n",
    "T = 1/Fs\n",
    "\n",
    "for s in stimuli:\n",
    "    stim = pd.read_csv(DATASET + s + '/muestra11.csv')\n",
    "    #stim[['EEG.O1', 'EEG.O2']].plot(subplots=True)\n",
    "\n",
    "    signal = stim['EEG.O1'].to_numpy()\n",
    "\n",
    "    s_fft = np.fft.fft(signal)\n",
    "    amplitude = abs(s_fft)*(2/len(s_fft))\n",
    "    frequency = np.fft.fftfreq(len(s_fft), T)\n",
    "\n",
    "    plt.xlim(0, 50)\n",
    "    plt.ylim(0, 4)\n",
    "    plt.bar(frequency, amplitude)\n",
    "    #plt.show()"
   ]
  },
  {
   "cell_type": "markdown",
   "metadata": {},
   "source": [
    "### 2. Classification Preprocessing"
   ]
  },
  {
   "cell_type": "markdown",
   "metadata": {},
   "source": [
    "#### 1) Feature Extraction\n",
    "\n",
    "For feature extraction the algorithm 1 was developed to extract 21 features from the training, validation and test sets: Mean, Mean - weight I, Mean - weight II, Log Detector, Median, Variance, Mean absolute difference, Mean frecuency, Peak frecuency, Variance central frecuency, Maximum PSD, Amplitude Histogram (10 ranges).\n",
    "\n",
    "Then, in both cases the training set features were normalized using sklearn’s MinMaxScaler function, as shown in equation 1. Finally, the validation and test sets were normalized with the Min and Max values obtained from the training set."
   ]
  },
  {
   "cell_type": "code",
   "execution_count": 3,
   "metadata": {},
   "outputs": [
    {
     "ename": "KeyboardInterrupt",
     "evalue": "",
     "output_type": "error",
     "traceback": [
      "\u001b[1;31m---------------------------------------------------------------------------\u001b[0m",
      "\u001b[1;31mKeyboardInterrupt\u001b[0m                         Traceback (most recent call last)",
      "\u001b[1;32m<ipython-input-3-43059eb7f36e>\u001b[0m in \u001b[0;36m<module>\u001b[1;34m\u001b[0m\n\u001b[0;32m     70\u001b[0m \u001b[1;33m\u001b[0m\u001b[0m\n\u001b[0;32m     71\u001b[0m             \u001b[1;31m# Median\u001b[0m\u001b[1;33m\u001b[0m\u001b[1;33m\u001b[0m\u001b[1;33m\u001b[0m\u001b[0m\n\u001b[1;32m---> 72\u001b[1;33m             \u001b[0mmedian\u001b[0m \u001b[1;33m=\u001b[0m \u001b[0mtrial\u001b[0m\u001b[1;33m[\u001b[0m\u001b[0mc\u001b[0m\u001b[1;33m]\u001b[0m\u001b[1;33m.\u001b[0m\u001b[0mmedian\u001b[0m\u001b[1;33m(\u001b[0m\u001b[1;33m)\u001b[0m\u001b[1;33m\u001b[0m\u001b[1;33m\u001b[0m\u001b[0m\n\u001b[0m\u001b[0;32m     73\u001b[0m \u001b[1;33m\u001b[0m\u001b[0m\n\u001b[0;32m     74\u001b[0m             \u001b[1;31m# Variance\u001b[0m\u001b[1;33m\u001b[0m\u001b[1;33m\u001b[0m\u001b[1;33m\u001b[0m\u001b[0m\n",
      "\u001b[1;32mc:\\ProgramData\\Anaconda3\\lib\\site-packages\\pandas\\core\\generic.py\u001b[0m in \u001b[0;36mmedian\u001b[1;34m(self, axis, skipna, level, numeric_only, **kwargs)\u001b[0m\n\u001b[0;32m  11173\u001b[0m             \u001b[0mself\u001b[0m\u001b[1;33m,\u001b[0m \u001b[0maxis\u001b[0m\u001b[1;33m=\u001b[0m\u001b[1;32mNone\u001b[0m\u001b[1;33m,\u001b[0m \u001b[0mskipna\u001b[0m\u001b[1;33m=\u001b[0m\u001b[1;32mNone\u001b[0m\u001b[1;33m,\u001b[0m \u001b[0mlevel\u001b[0m\u001b[1;33m=\u001b[0m\u001b[1;32mNone\u001b[0m\u001b[1;33m,\u001b[0m \u001b[0mnumeric_only\u001b[0m\u001b[1;33m=\u001b[0m\u001b[1;32mNone\u001b[0m\u001b[1;33m,\u001b[0m \u001b[1;33m**\u001b[0m\u001b[0mkwargs\u001b[0m\u001b[1;33m\u001b[0m\u001b[1;33m\u001b[0m\u001b[0m\n\u001b[0;32m  11174\u001b[0m         ):\n\u001b[1;32m> 11175\u001b[1;33m             \u001b[1;32mreturn\u001b[0m \u001b[0mNDFrame\u001b[0m\u001b[1;33m.\u001b[0m\u001b[0mmedian\u001b[0m\u001b[1;33m(\u001b[0m\u001b[0mself\u001b[0m\u001b[1;33m,\u001b[0m \u001b[0maxis\u001b[0m\u001b[1;33m,\u001b[0m \u001b[0mskipna\u001b[0m\u001b[1;33m,\u001b[0m \u001b[0mlevel\u001b[0m\u001b[1;33m,\u001b[0m \u001b[0mnumeric_only\u001b[0m\u001b[1;33m,\u001b[0m \u001b[1;33m**\u001b[0m\u001b[0mkwargs\u001b[0m\u001b[1;33m)\u001b[0m\u001b[1;33m\u001b[0m\u001b[1;33m\u001b[0m\u001b[0m\n\u001b[0m\u001b[0;32m  11176\u001b[0m \u001b[1;33m\u001b[0m\u001b[0m\n\u001b[0;32m  11177\u001b[0m         \u001b[1;31m# pandas\\core\\generic.py:10975: error: Cannot assign to a method\u001b[0m\u001b[1;33m\u001b[0m\u001b[1;33m\u001b[0m\u001b[1;33m\u001b[0m\u001b[0m\n",
      "\u001b[1;32mc:\\ProgramData\\Anaconda3\\lib\\site-packages\\pandas\\core\\generic.py\u001b[0m in \u001b[0;36mmedian\u001b[1;34m(self, axis, skipna, level, numeric_only, **kwargs)\u001b[0m\n\u001b[0;32m  10729\u001b[0m \u001b[1;33m\u001b[0m\u001b[0m\n\u001b[0;32m  10730\u001b[0m     \u001b[1;32mdef\u001b[0m \u001b[0mmedian\u001b[0m\u001b[1;33m(\u001b[0m\u001b[0mself\u001b[0m\u001b[1;33m,\u001b[0m \u001b[0maxis\u001b[0m\u001b[1;33m=\u001b[0m\u001b[1;32mNone\u001b[0m\u001b[1;33m,\u001b[0m \u001b[0mskipna\u001b[0m\u001b[1;33m=\u001b[0m\u001b[1;32mNone\u001b[0m\u001b[1;33m,\u001b[0m \u001b[0mlevel\u001b[0m\u001b[1;33m=\u001b[0m\u001b[1;32mNone\u001b[0m\u001b[1;33m,\u001b[0m \u001b[0mnumeric_only\u001b[0m\u001b[1;33m=\u001b[0m\u001b[1;32mNone\u001b[0m\u001b[1;33m,\u001b[0m \u001b[1;33m**\u001b[0m\u001b[0mkwargs\u001b[0m\u001b[1;33m)\u001b[0m\u001b[1;33m:\u001b[0m\u001b[1;33m\u001b[0m\u001b[1;33m\u001b[0m\u001b[0m\n\u001b[1;32m> 10731\u001b[1;33m         return self._stat_function(\n\u001b[0m\u001b[0;32m  10732\u001b[0m             \u001b[1;34m\"median\"\u001b[0m\u001b[1;33m,\u001b[0m \u001b[0mnanops\u001b[0m\u001b[1;33m.\u001b[0m\u001b[0mnanmedian\u001b[0m\u001b[1;33m,\u001b[0m \u001b[0maxis\u001b[0m\u001b[1;33m,\u001b[0m \u001b[0mskipna\u001b[0m\u001b[1;33m,\u001b[0m \u001b[0mlevel\u001b[0m\u001b[1;33m,\u001b[0m \u001b[0mnumeric_only\u001b[0m\u001b[1;33m,\u001b[0m \u001b[1;33m**\u001b[0m\u001b[0mkwargs\u001b[0m\u001b[1;33m\u001b[0m\u001b[1;33m\u001b[0m\u001b[0m\n\u001b[0;32m  10733\u001b[0m         )\n",
      "\u001b[1;32mc:\\ProgramData\\Anaconda3\\lib\\site-packages\\pandas\\core\\generic.py\u001b[0m in \u001b[0;36m_stat_function\u001b[1;34m(self, name, func, axis, skipna, level, numeric_only, **kwargs)\u001b[0m\n\u001b[0;32m  10709\u001b[0m         \u001b[1;32mif\u001b[0m \u001b[0mlevel\u001b[0m \u001b[1;32mis\u001b[0m \u001b[1;32mnot\u001b[0m \u001b[1;32mNone\u001b[0m\u001b[1;33m:\u001b[0m\u001b[1;33m\u001b[0m\u001b[1;33m\u001b[0m\u001b[0m\n\u001b[0;32m  10710\u001b[0m             \u001b[1;32mreturn\u001b[0m \u001b[0mself\u001b[0m\u001b[1;33m.\u001b[0m\u001b[0m_agg_by_level\u001b[0m\u001b[1;33m(\u001b[0m\u001b[0mname\u001b[0m\u001b[1;33m,\u001b[0m \u001b[0maxis\u001b[0m\u001b[1;33m=\u001b[0m\u001b[0maxis\u001b[0m\u001b[1;33m,\u001b[0m \u001b[0mlevel\u001b[0m\u001b[1;33m=\u001b[0m\u001b[0mlevel\u001b[0m\u001b[1;33m,\u001b[0m \u001b[0mskipna\u001b[0m\u001b[1;33m=\u001b[0m\u001b[0mskipna\u001b[0m\u001b[1;33m)\u001b[0m\u001b[1;33m\u001b[0m\u001b[1;33m\u001b[0m\u001b[0m\n\u001b[1;32m> 10711\u001b[1;33m         return self._reduce(\n\u001b[0m\u001b[0;32m  10712\u001b[0m             \u001b[0mfunc\u001b[0m\u001b[1;33m,\u001b[0m \u001b[0mname\u001b[0m\u001b[1;33m=\u001b[0m\u001b[0mname\u001b[0m\u001b[1;33m,\u001b[0m \u001b[0maxis\u001b[0m\u001b[1;33m=\u001b[0m\u001b[0maxis\u001b[0m\u001b[1;33m,\u001b[0m \u001b[0mskipna\u001b[0m\u001b[1;33m=\u001b[0m\u001b[0mskipna\u001b[0m\u001b[1;33m,\u001b[0m \u001b[0mnumeric_only\u001b[0m\u001b[1;33m=\u001b[0m\u001b[0mnumeric_only\u001b[0m\u001b[1;33m\u001b[0m\u001b[1;33m\u001b[0m\u001b[0m\n\u001b[0;32m  10713\u001b[0m         )\n",
      "\u001b[1;32mc:\\ProgramData\\Anaconda3\\lib\\site-packages\\pandas\\core\\series.py\u001b[0m in \u001b[0;36m_reduce\u001b[1;34m(self, op, name, axis, skipna, numeric_only, filter_type, **kwds)\u001b[0m\n\u001b[0;32m   4180\u001b[0m                 )\n\u001b[0;32m   4181\u001b[0m             \u001b[1;32mwith\u001b[0m \u001b[0mnp\u001b[0m\u001b[1;33m.\u001b[0m\u001b[0merrstate\u001b[0m\u001b[1;33m(\u001b[0m\u001b[0mall\u001b[0m\u001b[1;33m=\u001b[0m\u001b[1;34m\"ignore\"\u001b[0m\u001b[1;33m)\u001b[0m\u001b[1;33m:\u001b[0m\u001b[1;33m\u001b[0m\u001b[1;33m\u001b[0m\u001b[0m\n\u001b[1;32m-> 4182\u001b[1;33m                 \u001b[1;32mreturn\u001b[0m \u001b[0mop\u001b[0m\u001b[1;33m(\u001b[0m\u001b[0mdelegate\u001b[0m\u001b[1;33m,\u001b[0m \u001b[0mskipna\u001b[0m\u001b[1;33m=\u001b[0m\u001b[0mskipna\u001b[0m\u001b[1;33m,\u001b[0m \u001b[1;33m**\u001b[0m\u001b[0mkwds\u001b[0m\u001b[1;33m)\u001b[0m\u001b[1;33m\u001b[0m\u001b[1;33m\u001b[0m\u001b[0m\n\u001b[0m\u001b[0;32m   4183\u001b[0m \u001b[1;33m\u001b[0m\u001b[0m\n\u001b[0;32m   4184\u001b[0m     \u001b[1;32mdef\u001b[0m \u001b[0m_reindex_indexer\u001b[0m\u001b[1;33m(\u001b[0m\u001b[0mself\u001b[0m\u001b[1;33m,\u001b[0m \u001b[0mnew_index\u001b[0m\u001b[1;33m,\u001b[0m \u001b[0mindexer\u001b[0m\u001b[1;33m,\u001b[0m \u001b[0mcopy\u001b[0m\u001b[1;33m)\u001b[0m\u001b[1;33m:\u001b[0m\u001b[1;33m\u001b[0m\u001b[1;33m\u001b[0m\u001b[0m\n",
      "\u001b[1;32mc:\\ProgramData\\Anaconda3\\lib\\site-packages\\pandas\\core\\nanops.py\u001b[0m in \u001b[0;36mf\u001b[1;34m(values, axis, skipna, **kwds)\u001b[0m\n\u001b[0;32m    124\u001b[0m                     \u001b[1;31m#  TypeError if called\u001b[0m\u001b[1;33m\u001b[0m\u001b[1;33m\u001b[0m\u001b[1;33m\u001b[0m\u001b[0m\n\u001b[0;32m    125\u001b[0m                     \u001b[0mkwds\u001b[0m\u001b[1;33m.\u001b[0m\u001b[0mpop\u001b[0m\u001b[1;33m(\u001b[0m\u001b[1;34m\"mask\"\u001b[0m\u001b[1;33m,\u001b[0m \u001b[1;32mNone\u001b[0m\u001b[1;33m)\u001b[0m\u001b[1;33m\u001b[0m\u001b[1;33m\u001b[0m\u001b[0m\n\u001b[1;32m--> 126\u001b[1;33m                     \u001b[0mresult\u001b[0m \u001b[1;33m=\u001b[0m \u001b[0mbn_func\u001b[0m\u001b[1;33m(\u001b[0m\u001b[0mvalues\u001b[0m\u001b[1;33m,\u001b[0m \u001b[0maxis\u001b[0m\u001b[1;33m=\u001b[0m\u001b[0maxis\u001b[0m\u001b[1;33m,\u001b[0m \u001b[1;33m**\u001b[0m\u001b[0mkwds\u001b[0m\u001b[1;33m)\u001b[0m\u001b[1;33m\u001b[0m\u001b[1;33m\u001b[0m\u001b[0m\n\u001b[0m\u001b[0;32m    127\u001b[0m \u001b[1;33m\u001b[0m\u001b[0m\n\u001b[0;32m    128\u001b[0m                     \u001b[1;31m# prefer to treat inf/-inf as NA, but must compute the func\u001b[0m\u001b[1;33m\u001b[0m\u001b[1;33m\u001b[0m\u001b[1;33m\u001b[0m\u001b[0m\n",
      "\u001b[1;31mKeyboardInterrupt\u001b[0m: "
     ]
    }
   ],
   "source": [
    "# Feature Extraction\n",
    "import csv, os, math\n",
    "import pandas as pd\n",
    "import numpy as np\n",
    "import scipy.signal\n",
    "\n",
    "DATASET = '../Dataset/3_Filtered_Data/'\n",
    "stimuli = ['7Hz', '9Hz', '11Hz', '13Hz', 'Baseline']\n",
    "channel = ['EEG.O1', 'EEG.O2']\n",
    "\n",
    "stimuli = ['7Hz']\n",
    "\n",
    "\n",
    "# Read All File Lists\n",
    "def getFileName(path_dir):\n",
    "    file_list = os.listdir(path_dir)\n",
    "    file_list.sort()\n",
    "    dataList = []\n",
    "\n",
    "    for f in file_list:\n",
    "        if f.find('.csv') != -1:\n",
    "            dataList.append(f)\n",
    "\n",
    "    return dataList\n",
    "\n",
    "\n",
    "def HistogramaAmplitud(data):\n",
    "    return [0]\n",
    "\n",
    "\n",
    "# Extract Features\n",
    "for s in stimuli:\n",
    "    fList = getFileName(DATASET + s)\n",
    "\n",
    "    for f in fList:\n",
    "        trial = pd.read_csv(DATASET + s + '/' + f)\n",
    "        trialFeature = []\n",
    "\n",
    "        for c in channel:\n",
    "\n",
    "            # Mean\n",
    "            mean = trial[c].mean()\n",
    "\n",
    "            # Mean - weight I\n",
    "            res = []\n",
    "            for i in range(len(trial[c])):\n",
    "                i += 1\n",
    "                if i <= 0.75*len(trial[c]) and i >= 0.25*len(trial[c]):\n",
    "                    w = 1\n",
    "                else:\n",
    "                    w = 0.5\n",
    "                res.append(abs(trial.iloc[i-1][c])*w)\n",
    "            mean1 = np.array(res).mean()\n",
    "\n",
    "            # Mean - weight II\n",
    "            res = []\n",
    "            for i in range(len(trial[c])):\n",
    "                i += 1\n",
    "                if i <= 0.75*len(trial[c]) and i >= 0.25*len(trial[c]):\n",
    "                    w = 1\n",
    "                elif i < 0.25*len(trial[c]) :\n",
    "                    w = 4*i/len(trial[c])\n",
    "                else:\n",
    "                    w = 4*(len(trial[c])-i)/len(trial[c])\n",
    "                res.append(abs(trial.iloc[i-1][c])*w)\n",
    "            mean2 = np.array(res).mean()\n",
    "\n",
    "            # Log Detector\n",
    "            logDetector = math.exp(np.log(abs(trial[c]).to_frame()).mean()[c])\n",
    "\n",
    "            # Median\n",
    "            median = trial[c].median()\n",
    "\n",
    "            # Variance\n",
    "            variance = trial[c].var()\n",
    "\n",
    "            # Mean absolute difference\n",
    "            mad = np.median(np.absolute(trial[c] - np.median(trial[c], axis=0)), axis=0)\n",
    "\n",
    "            # FFT\n",
    "            f, sp = scipy.signal.periodogram(trial[c], 128)\n",
    "            frequency = f[30:60]\n",
    "            spectrum = sp[30:60]\n",
    "\n",
    "            # Mean frecuency\n",
    "            f, sp = scipy.signal.periodogram(trial[c], 128)\n",
    "            meanFreq = ((f * sp).sum())/(sp.sum())\n",
    "\n",
    "            # Peak frecuency\n",
    "            frequency_peak_indice = np.argmax(spectrum)\n",
    "            peakFreq = frequency[frequency_peak_indice]\n",
    "            \n",
    "            # Variance central frecuency\n",
    "            frequency_avg = np.mean(f)\n",
    "            vcf = np.sum(sp * pow(f- frequency_avg,2))/frequency_avg\n",
    "            \n",
    "            # Maximum PSD\n",
    "            maxPSD = np.max(spectrum)\n",
    "            \n",
    "            # Amplitude Histogram (10 ranges)\n",
    "            ampHist = HistogramaAmplitud(trial[c])\n",
    "\n",
    "            channelFeature = [mean, mean1, mean2, logDetector, median, variance, mad, meanFreq, peakFreq, vcf, maxPSD].extend(ampHist)\n",
    "            trialFeature.append(channelFeature)\n",
    "\n",
    "        trialFeature = np.array(trialFeature)\n",
    "        #np.save('../Dataset/4_Feature Extracted Data/' + s + '_' + f, trialFeature)\n"
   ]
  }
 ],
 "metadata": {
  "interpreter": {
   "hash": "ad2bdc8ecc057115af97d19610ffacc2b4e99fae6737bb82f5d7fb13d2f2c186"
  },
  "kernelspec": {
   "display_name": "Python 3.8.8 ('base')",
   "language": "python",
   "name": "python3"
  },
  "language_info": {
   "codemirror_mode": {
    "name": "ipython",
    "version": 3
   },
   "file_extension": ".py",
   "mimetype": "text/x-python",
   "name": "python",
   "nbconvert_exporter": "python",
   "pygments_lexer": "ipython3",
   "version": "3.8.8"
  },
  "orig_nbformat": 4
 },
 "nbformat": 4,
 "nbformat_minor": 2
}
