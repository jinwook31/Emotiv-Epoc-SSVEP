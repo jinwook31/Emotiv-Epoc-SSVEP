{
 "cells": [
  {
   "cell_type": "markdown",
   "metadata": {},
   "source": [
    "# SSVEP-EEG Signal Classification based on Emotiv EPOC BCI and Raspberry Pi\n",
    "\n",
    "Dataset: https://ieee-dataport.org/documents/ssvep-eeg-data-collection-using-emotiv-epoc#files\n"
   ]
  },
  {
   "cell_type": "markdown",
   "metadata": {},
   "source": [
    "- 10 visual stimuli frequencies (7, 9, 11 and 13)\n",
    "- 2 electrodes (LO, RO) \n",
    "- 128 samples per second, Stimuli was provided for 3.5s\n",
    "\n",
    "Asanza, V., Avilés-Mendoza, K., Trivino-Gonzalez, H., Rosales-Uribe, F., Torres-Brunes, J., Loayza, F. R., ... & Tinoco-Egas, R. (2021). SSVEP-EEG signal classification based on emotiv EPOC BCI and raspberry Pi. IFAC-PapersOnLine, 54(15), 388-393.\n",
    "https://www.sciencedirect.com/science/article/pii/S240589632101692X"
   ]
  },
  {
   "cell_type": "markdown",
   "metadata": {},
   "source": [
    "### 1. Data Visualization"
   ]
  },
  {
   "cell_type": "code",
   "execution_count": 2,
   "metadata": {},
   "outputs": [],
   "source": [
    "import pandas as pd\n",
    "\n",
    "DATASET = '../Dataset/3_Filtered_Data/'\n",
    "stimuli = ['7Hz', '9Hz', '11Hz', '13Hz', 'Baseline']\n",
    "\n",
    "for s in stimuli:\n",
    "    stim = pd.read_csv(DATASET + s + '/muestra4.csv')\n",
    "    #stim[['EEG.O1', 'EEG.O2']].plot(subplots=True)"
   ]
  },
  {
   "cell_type": "code",
   "execution_count": 3,
   "metadata": {},
   "outputs": [
    {
     "data": {
      "image/png": "[encoded data removed]",
      "text/plain": [
       "<Figure size 432x288 with 1 Axes>"
      ]
     },
     "metadata": {
      "needs_background": "light"
     },
     "output_type": "display_data"
    }
   ],
   "source": [
    "# FFT\n",
    "import numpy as np\n",
    "import scipy.signal\n",
    "import matplotlib.pyplot as plt\n",
    "\n",
    "Fs = 128\n",
    "T = 1/Fs\n",
    "\n",
    "for s in stimuli:\n",
    "    stim = pd.read_csv(DATASET + s + '/muestra11.csv')\n",
    "    #stim[['EEG.O1', 'EEG.O2']].plot(subplots=True)\n",
    "\n",
    "    signal = stim['EEG.O1'].to_numpy()\n",
    "\n",
    "    s_fft = np.fft.fft(signal)\n",
    "    amplitude = abs(s_fft)*(2/len(s_fft))\n",
    "    frequency = np.fft.fftfreq(len(s_fft), T)\n",
    "\n",
    "    plt.xlim(0, 50)\n",
    "    plt.ylim(0, 4)\n",
    "    plt.bar(frequency, amplitude)\n",
    "    #plt.show()"
   ]
  },
  {
   "cell_type": "markdown",
   "metadata": {},
   "source": [
    "### 2. Classification Preprocessing"
   ]
  },
  {
   "cell_type": "markdown",
   "metadata": {},
   "source": [
    "#### 1) Feature Extraction\n",
    "\n",
    "Mean, Mean - weight I, Mean - weight II, Log Detector, Median, Variance, Mean absolute difference, Mean frecuency, Peak frecuency, Variance central frecuency, Maximum PSD, Amplitude Histogram (10 ranges)\n",
    "\n",
    "Git repo (equation, refernce): https://github.com/kaviles22/EEG_SignalsClassification"
   ]
  },
  {
   "cell_type": "code",
   "execution_count": 28,
   "metadata": {},
   "outputs": [],
   "source": [
    "# Feature Extraction\n",
    "import csv, os, math\n",
    "import pandas as pd\n",
    "import numpy as np\n",
    "import scipy.signal\n",
    "\n",
    "DATASET = '../Dataset/3_Filtered_Data/'\n",
    "stimuli = ['7Hz', '9Hz', '11Hz', '13Hz', 'Baseline']\n",
    "channel = ['EEG.O1', 'EEG.O2']\n",
    "\n",
    "\n",
    "# Read All File Lists\n",
    "def getFileName(path_dir):\n",
    "    file_list = os.listdir(path_dir)\n",
    "    file_list.sort()\n",
    "    dataList = []\n",
    "\n",
    "    for f in file_list:\n",
    "        if f.find('.csv') != -1:\n",
    "            dataList.append(f)\n",
    "\n",
    "    return dataList\n",
    "\n",
    "\n",
    "def HistogramaAmplitud(frequency, spectrum):\n",
    "    intervals = [[x * 6.5, x * 6.5 + 6.5] for x in range(0, 10)]\n",
    "    intervalVals = [[],[],[],[],[],[],[],[],[],[]]\n",
    "\n",
    "    sp = spectrum.tolist()\n",
    "    total = sum(sp)\n",
    "\n",
    "    for freq in frequency:\n",
    "        idx = 0\n",
    "        for inter in intervals:\n",
    "            if inter[0] <= freq < inter[1]:\n",
    "                intervalVals[idx].append(sp[int(np.where(frequency == freq)[0])])\n",
    "                break\n",
    "            idx += 1\n",
    "\n",
    "    histAmp = [sum(x)/total for x in intervalVals]\n",
    "    \n",
    "    return histAmp\n",
    "\n",
    "\n",
    "# FFT (5~35 Hz)\n",
    "def butter_bandpass_filter(data, lowcut, highcut, fs, order):\n",
    "        nyq = 0.5 * fs  # sampling rate (fs)\n",
    "        low = lowcut / nyq\n",
    "        high = highcut / nyq\n",
    "        sos = scipy.signal.butter(order, [low, high], analog=False, btype='band', output='sos')\n",
    "        y = scipy.signal.sosfilt(sos, data)\n",
    "        return y\n",
    "\n",
    "\n",
    "# Extract Features\n",
    "for s in stimuli:\n",
    "    fList = getFileName(DATASET + s)\n",
    "\n",
    "    for f in fList:\n",
    "        trial = pd.read_csv(DATASET + s + '/' + f)\n",
    "        trialFeature = []\n",
    "\n",
    "        for c in channel:\n",
    "            filtered = butter_bandpass_filter(trial[c] - np.mean(trial[c]), lowcut=5, highcut=35, fs=448, order=3)\n",
    "            filtered = pd.Series(filtered)\n",
    "\n",
    "            # Mean\n",
    "            mean = filtered.mean()\n",
    "\n",
    "            # Mean - weight I\n",
    "            res = []\n",
    "            for i in range(len(filtered)):\n",
    "                i += 1\n",
    "                if i <= 0.75*len(filtered) and i >= 0.25*len(filtered):\n",
    "                    w = 1\n",
    "                else:\n",
    "                    w = 0.5\n",
    "                res.append(abs(trial.iloc[i-1][c])*w)\n",
    "            mean1 = np.array(res).mean()\n",
    "\n",
    "            # Mean - weight II\n",
    "            res = []\n",
    "            for i in range(len(filtered)):\n",
    "                i += 1\n",
    "                if i <= 0.75*len(filtered) and i >= 0.25*len(filtered):\n",
    "                    w = 1\n",
    "                elif i < 0.25*len(filtered) :\n",
    "                    w = 4*i/len(filtered)\n",
    "                else:\n",
    "                    w = 4*(len(filtered)-i)/len(filtered)\n",
    "                res.append(abs(trial.iloc[i-1][c])*w)\n",
    "            mean2 = np.array(res).mean()\n",
    "\n",
    "            # Log Detector\n",
    "            #logDetector = math.exp(np.log(abs(filtered).to_frame()).mean()[c])\n",
    "\n",
    "            # Median\n",
    "            median = filtered.median()\n",
    "\n",
    "            # Variance\n",
    "            variance = filtered.var()\n",
    "\n",
    "            # Mean absolute difference\n",
    "            mad = np.median(np.absolute(filtered - np.median(filtered, axis=0)), axis=0)\n",
    "\n",
    "            # FFT\n",
    "            freq, sp = scipy.signal.periodogram(filtered, 128)\n",
    "            frequency = freq[30:60]\n",
    "            spectrum = sp[30:60]\n",
    "\n",
    "            # Mean frecuency\n",
    "            meanFreq = ((freq * sp).sum())/(sp.sum())\n",
    "\n",
    "            # Peak frecuency\n",
    "            frequency_peak_indice = np.argmax(spectrum)\n",
    "            peakFreq = frequency[frequency_peak_indice]\n",
    "            \n",
    "            # Variance central frecuency\n",
    "            frequency_avg = np.mean(freq)\n",
    "            vcf = np.sum(sp * pow(freq - frequency_avg,2))/frequency_avg\n",
    "            \n",
    "            # Maximum PSD\n",
    "            maxPSD = np.max(spectrum)\n",
    "            \n",
    "            # Amplitude Histogram (10 ranges)\n",
    "            ampHist = HistogramaAmplitud(freq, sp)\n",
    "\n",
    "            #channelFeature = [mean, mean1, mean2, logDetector, median, variance, mad, meanFreq, peakFreq, vcf, maxPSD]\n",
    "            channelFeature = [mean, mean1, mean2, median, variance, mad, meanFreq, peakFreq, vcf, maxPSD]\n",
    "            channelFeature.extend(ampHist)\n",
    "\n",
    "            trialFeature.append(channelFeature)\n",
    "\n",
    "\n",
    "        trialFeature = np.array(trialFeature)\n",
    "        np.save('../Dataset/4_Feature Extracted Data/' + s + '_' + f, trialFeature)\n"
   ]
  },
  {
   "cell_type": "markdown",
   "metadata": {},
   "source": [
    "### 3. Classification\n",
    "\n",
    "#### 1) Divide into Training, Valid, Test set\n",
    "\n",
    "Divide the data to Training (70%), Validation (15%) and Test (15%) set."
   ]
  },
  {
   "cell_type": "code",
   "execution_count": 29,
   "metadata": {},
   "outputs": [
    {
     "name": "stdout",
     "output_type": "stream",
     "text": [
      "3024\n",
      "757\n"
     ]
    }
   ],
   "source": [
    "import os\n",
    "import numpy as np\n",
    "from sklearn.model_selection import train_test_split\n",
    "\n",
    "DATASET = '../Dataset/4_Feature Extracted Data/'\n",
    "stimuli = ['7Hz', '9Hz', '11Hz', '13Hz', 'Baseline']\n",
    "\n",
    "\n",
    "# Read All File Lists\n",
    "def getFileName(path_dir):\n",
    "    file_list = os.listdir(path_dir)\n",
    "    file_list.sort()\n",
    "    dataList = []\n",
    "\n",
    "    for f in file_list:\n",
    "        if f.find('.npy') != -1:\n",
    "            dataList.append(f)\n",
    "\n",
    "    return dataList\n",
    "\n",
    "\n",
    "# Make X, y Format\n",
    "npyList = getFileName(DATASET)\n",
    "X1 = []  # O1\n",
    "X2 = []  # O2\n",
    "y = []\n",
    "\n",
    "for n in npyList:\n",
    "    data = np.load(DATASET + n)\n",
    "    X1.append(data[0])\n",
    "    X2.append(data[1])\n",
    "    for s in stimuli:\n",
    "        if s in n:\n",
    "            y.append(s)\n",
    "\n",
    "\n",
    "\n",
    "# Data Normalization\n",
    "from sklearn.preprocessing import MinMaxScaler\n",
    "\n",
    "X1 = MinMaxScaler().fit_transform(X1)\n",
    "X2 = MinMaxScaler().fit_transform(X2)\n",
    "\n",
    "X = []\n",
    "for i in range(len(X1)):\n",
    "    X.append(np.concatenate((X1[i], X2[i]), axis=0))\n",
    "\n",
    "\n",
    "import csv\n",
    "with open('features.csv', 'w', newline='') as file :\n",
    "    write = csv.writer(file)\n",
    "    write.writerows(X)\n",
    "\n",
    "\n",
    "\n",
    "# Divide dataset\n",
    "X_train, X_test, y_train, y_test = train_test_split(X, y, stratify=y, test_size=0.2, random_state=42)\n",
    "\n",
    "print(len(X_train))\n",
    "print(len(X_test))"
   ]
  },
  {
   "cell_type": "markdown",
   "metadata": {},
   "source": [
    "#### 3) Learning & Classificaiton\n",
    "\n",
    "Classification with SVM, MLP, RF, KNN, XGBoost methods."
   ]
  },
  {
   "cell_type": "code",
   "execution_count": 30,
   "metadata": {},
   "outputs": [
    {
     "name": "stdout",
     "output_type": "stream",
     "text": [
      "0.19947159841479525\n"
     ]
    }
   ],
   "source": [
    "from sklearn import svm\n",
    "\n",
    "clf = svm.SVC(kernel='linear')\n",
    "clf.fit(X_train, y_train)\n",
    "\n",
    "print(clf.score(X_test, y_test))"
   ]
  },
  {
   "cell_type": "code",
   "execution_count": 37,
   "metadata": {},
   "outputs": [
    {
     "name": "stdout",
     "output_type": "stream",
     "text": [
      "0.21268163804491413\n"
     ]
    }
   ],
   "source": [
    "from sklearn.neighbors import KNeighborsClassifier\n",
    "\n",
    "classifier = KNeighborsClassifier(n_neighbors = 5)\n",
    "classifier.fit(X_train, y_train)\n",
    "\n",
    "print(classifier.score(X_test, y_test))"
   ]
  }
 ],
 "metadata": {
  "interpreter": {
   "hash": "ad2bdc8ecc057115af97d19610ffacc2b4e99fae6737bb82f5d7fb13d2f2c186"
  },
  "kernelspec": {
   "display_name": "Python 3.8.8 ('base')",
   "language": "python",
   "name": "python3"
  },
  "language_info": {
   "codemirror_mode": {
    "name": "ipython",
    "version": 3
   },
   "file_extension": ".py",
   "mimetype": "text/x-python",
   "name": "python",
   "nbconvert_exporter": "python",
   "pygments_lexer": "ipython3",
   "version": "3.8.8"
  },
  "orig_nbformat": 4
 },
 "nbformat": 4,
 "nbformat_minor": 2
}
